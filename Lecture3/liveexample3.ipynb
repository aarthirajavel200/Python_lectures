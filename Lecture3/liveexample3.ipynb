{
 "cells": [
  {
   "cell_type": "code",
   "execution_count": 2,
   "id": "7973410f-b008-41d0-922f-a8e92be5b701",
   "metadata": {},
   "outputs": [
    {
     "name": "stdin",
     "output_type": "stream",
     "text": [
      "you are in the lost forest.Go left or right right\n",
      "you are in the lost forest.Go left or right right\n",
      "you are in the lost forest.Go left or right left\n"
     ]
    },
    {
     "name": "stdout",
     "output_type": "stream",
     "text": [
      "you got out of the lost forest\n"
     ]
    }
   ],
   "source": [
    "#while loop\n",
    "where = input(\"you are in the lost forest.Go left or right\")\n",
    "\n",
    "while where == \"right\":\n",
    "    where = input(\"you are in the lost forest.Go left or right\")\n",
    "    \n",
    "print(\"you got out of the lost forest\")\n",
    " "
   ]
  },
  {
   "cell_type": "code",
   "execution_count": 4,
   "id": "0dcc347f-cea2-4bf0-969f-03d55f6ee719",
   "metadata": {},
   "outputs": [
    {
     "name": "stdin",
     "output_type": "stream",
     "text": [
      "enter a non-negative number 2\n"
     ]
    },
    {
     "name": "stdout",
     "output_type": "stream",
     "text": [
      "X\n",
      "X\n"
     ]
    }
   ],
   "source": [
    "#negative number \n",
    "n = int(input(\"enter a non-negative number\"))\n",
    "while n>0 :\n",
    "    print('X')\n",
    "    n=n-1"
   ]
  },
  {
   "cell_type": "code",
   "execution_count": 11,
   "id": "6013ec14-d125-4b47-9bd3-7b4afef5b712",
   "metadata": {},
   "outputs": [
    {
     "name": "stdin",
     "output_type": "stream",
     "text": [
      "enter a number 5\n"
     ]
    },
    {
     "name": "stdout",
     "output_type": "stream",
     "text": [
      "5 ! => 120 \n"
     ]
    }
   ],
   "source": [
    "#factorial of a number\n",
    "x = int(input(\"enter a number\"))\n",
    "n = 1\n",
    "factorial = 1\n",
    "while n<=x:\n",
    "    factorial = factorial * n \n",
    "    n = n+1\n",
    "print(f'{x} ! => {factorial} ')\n",
    "\n",
    "\n"
   ]
  },
  {
   "cell_type": "code",
   "execution_count": 12,
   "id": "a5988d29-3381-474a-8ff1-32823842bacf",
   "metadata": {},
   "outputs": [
    {
     "name": "stdout",
     "output_type": "stream",
     "text": [
      "0\n",
      "1\n",
      "2\n",
      "3\n",
      "4\n"
     ]
    }
   ],
   "source": [
    "#for loops \n",
    "#using range()\n",
    "for i in range(5):\n",
    "    print(i)"
   ]
  },
  {
   "cell_type": "code",
   "execution_count": 13,
   "id": "df948ed4-d303-469b-b286-50f6fb536e9d",
   "metadata": {},
   "outputs": [
    {
     "name": "stdout",
     "output_type": "stream",
     "text": [
      "10\n"
     ]
    }
   ],
   "source": [
    "#sum of variables\n",
    "mysum = 0 \n",
    "for i in range(10):\n",
    "    mysum +=1\n",
    "print(mysum)"
   ]
  },
  {
   "cell_type": "code",
   "execution_count": 19,
   "id": "14619506-f7e0-4b10-90a1-6ddb7d8ff825",
   "metadata": {},
   "outputs": [
    {
     "name": "stdin",
     "output_type": "stream",
     "text": [
      " 5\n"
     ]
    },
    {
     "name": "stdout",
     "output_type": "stream",
     "text": [
      "120\n"
     ]
    }
   ],
   "source": [
    "#finding factorial using forloops\n",
    "n = int(input())\n",
    "factorial = 1\n",
    "for i in range(1,n+1):\n",
    "    factorial = factorial * i\n",
    "    \n",
    "print(factorial)"
   ]
  },
  {
   "cell_type": "code",
   "execution_count": null,
   "id": "c767cc09-1f67-4ac5-b3f1-d08d2f652786",
   "metadata": {},
   "outputs": [],
   "source": []
  }
 ],
 "metadata": {
  "kernelspec": {
   "display_name": "Python 3 (ipykernel)",
   "language": "python",
   "name": "python3"
  },
  "language_info": {
   "codemirror_mode": {
    "name": "ipython",
    "version": 3
   },
   "file_extension": ".py",
   "mimetype": "text/x-python",
   "name": "python",
   "nbconvert_exporter": "python",
   "pygments_lexer": "ipython3",
   "version": "3.11.7"
  }
 },
 "nbformat": 4,
 "nbformat_minor": 5
}
