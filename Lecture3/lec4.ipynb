{
 "cells": [
  {
   "cell_type": "code",
   "execution_count": 9,
   "id": "5c1663c4-30ee-422f-b9de-a72a71f369cc",
   "metadata": {},
   "outputs": [
    {
     "name": "stdout",
     "output_type": "stream",
     "text": [
      "3\n"
     ]
    }
   ],
   "source": [
    "#break statement\n",
    "mysum = 0\n",
    "for i in range(5,11,2):\n",
    "    mysum+=1\n",
    "    if mysum==5:\n",
    "      break\n",
    "print(mysum)"
   ]
  },
  {
   "cell_type": "code",
   "execution_count": 13,
   "id": "de7da641-79ea-40ef-bd33-a1c4757bdb49",
   "metadata": {},
   "outputs": [
    {
     "name": "stdout",
     "output_type": "stream",
     "text": [
      "Yes it is present\n",
      "Yes it is present\n"
     ]
    }
   ],
   "source": [
    "#strings and loops \n",
    "s = \"demo loops - fruit loops\"\n",
    "for index in range(len(s)) :\n",
    "    if s[index] == 'i' or s[index] =='u':\n",
    "        print(\"Yes it is present\")"
   ]
  },
  {
   "cell_type": "code",
   "execution_count": 15,
   "id": "e12dbbf3-037e-41d6-a0eb-9545ec8c2eac",
   "metadata": {},
   "outputs": [
    {
     "name": "stdout",
     "output_type": "stream",
     "text": [
      "Yes it is present\n",
      "Yes it is present\n",
      "yes it is present\n",
      "yes it is present\n"
     ]
    }
   ],
   "source": [
    "#another methods\n",
    "for char  in s :\n",
    "    if char == 'i' or char =='u':\n",
    "       print(\"Yes it is present\")\n",
    "for char in 'iu':\n",
    "    print(\"yes it is present\")"
   ]
  },
  {
   "cell_type": "code",
   "execution_count": 18,
   "id": "952f78f4-772c-4236-bea1-567e256fcad4",
   "metadata": {},
   "outputs": [
    {
     "name": "stdin",
     "output_type": "stream",
     "text": [
      "I will cheer for you! enter word:  asd\n",
      "Enthusiasm level(1-10): 1\n"
     ]
    },
    {
     "name": "stdout",
     "output_type": "stream",
     "text": [
      "Give me an a : a\n",
      "What's the spell\n",
      "Give me an s : s\n",
      "What's the spell\n",
      "Give me an d : d\n",
      "What's the spell\n",
      "asd !!!\n"
     ]
    }
   ],
   "source": [
    "#ROBOT CHEATLEADERS\n",
    "an_letters = \"aefhilmnorsxAEFHILMNORSX\"\n",
    "word = input(\"I will cheer for you! enter word: \")\n",
    "times = int(input(\"Enthusiasm level(1-10):\"))\n",
    "for c in word:\n",
    "    if c in an_letters:\n",
    "        print(f'Give me an {c} : {c}')\n",
    "    else:\n",
    "        print(f'Give me an {c} : {c}')\n",
    "    print(\"What's the spell\")\n",
    "for i in range(times):\n",
    "    print(word,'!!!')\n",
    "    "
   ]
  },
  {
   "cell_type": "code",
   "execution_count": 23,
   "id": "31abd460-dabb-407f-967d-3a2adf3d8e5f",
   "metadata": {},
   "outputs": [
    {
     "name": "stdin",
     "output_type": "stream",
     "text": [
      "Enter a number 36\n"
     ]
    },
    {
     "name": "stdout",
     "output_type": "stream",
     "text": [
      "0\n",
      "1\n",
      "4\n",
      "9\n",
      "16\n",
      "25\n",
      "Square root is of  36 is 6\n"
     ]
    }
   ],
   "source": [
    "#finding square root with while loop\n",
    "guess = 0\n",
    "number = int(input(\"Enter a number\"))\n",
    "while guess**2<number:\n",
    "    print(guess**2)\n",
    "    guess = guess+1\n",
    "if guess**2 == number:\n",
    "    print(\"Square root is of \" , number ,\"is\", guess)\n",
    "else:\n",
    "    print(number,\"is not a perfect square\")\n",
    "\n",
    "    "
   ]
  },
  {
   "cell_type": "code",
   "execution_count": 27,
   "id": "1eb32b83-64f6-4ca8-a44b-eeee2dd6b773",
   "metadata": {},
   "outputs": [
    {
     "name": "stdin",
     "output_type": "stream",
     "text": [
      "enter a number 125\n"
     ]
    },
    {
     "name": "stdout",
     "output_type": "stream",
     "text": [
      "cube root of 125 is 5\n"
     ]
    }
   ],
   "source": [
    "#cube root \n",
    "number = int(input(\"enter a number\"))\n",
    "for num in range(number+1):\n",
    "    if num**3 == number:\n",
    "        print(\"cube root of\" , number , \"is\" ,num)"
   ]
  },
  {
   "cell_type": "code",
   "execution_count": 29,
   "id": "db3b2400-3074-4fcd-8d4a-842189d7e92d",
   "metadata": {},
   "outputs": [
    {
     "name": "stdin",
     "output_type": "stream",
     "text": [
      "enter a number 125\n"
     ]
    },
    {
     "name": "stdout",
     "output_type": "stream",
     "text": [
      "cube root of 125 is 5\n"
     ]
    }
   ],
   "source": [
    "#positive and negative cubes\n",
    "number = int(input(\"enter a number\"))\n",
    "for num in range(abs(number+1)):\n",
    "    if num**3 == abs(number):\n",
    "        print(\"cube root of\" , number , \"is\" ,num)"
   ]
  },
  {
   "cell_type": "code",
   "execution_count": 34,
   "id": "4e0170a4-d3f0-49cd-b056-7e15221a391f",
   "metadata": {},
   "outputs": [
    {
     "name": "stdin",
     "output_type": "stream",
     "text": [
      "enter a number 198\n"
     ]
    },
    {
     "name": "stdout",
     "output_type": "stream",
     "text": [
      "It is not a perfect cube\n"
     ]
    }
   ],
   "source": [
    "#to identify whether given number is perfect cube or not \n",
    "number = int(input(\"enter a number\"))\n",
    "for num in range(abs(number+1)):\n",
    "    if num**3 >=abs(number):\n",
    "        break \n",
    "    \n",
    "if num**3 == abs(number):\n",
    "  print(\"cube root of\" , number , \"is\" ,num)\n",
    " \n",
    "else:\n",
    "  print(\"It is not a perfect cube\")"
   ]
  },
  {
   "cell_type": "code",
   "execution_count": 35,
   "id": "231f700e-5ced-4e31-bbbf-e0a24378fde6",
   "metadata": {},
   "outputs": [
    {
     "name": "stdout",
     "output_type": "stream",
     "text": [
      "Alyssa sold 3 tickets\n",
      "Ben sold 1 tickets\n",
      "cindy sold 6 tickets\n"
     ]
    }
   ],
   "source": [
    "#ticket selling \n",
    "for alyssa in range(11):\n",
    "    for ben in range(11):\n",
    "        for cindy in range(11):\n",
    "            total = (alyssa + ben + cindy == 10)\n",
    "            two_less = (ben == alyssa-2)\n",
    "            twice = (cindy == 2*alyssa)\n",
    "            if  total and two_less and twice :\n",
    "                print(f\"Alyssa sold {alyssa} tickets\")\n",
    "                print(f\"Ben sold {ben} tickets\")\n",
    "                print(f\"cindy sold {cindy} tickets\")\n",
    "    "
   ]
  },
  {
   "cell_type": "code",
   "execution_count": 43,
   "id": "e21fd918-e32c-48b2-a76d-87a7aedfd074",
   "metadata": {},
   "outputs": [
    {
     "name": "stdout",
     "output_type": "stream",
     "text": [
      "Alyssa sold 255\n",
      "Ben sold 235\n",
      "cindy sold 510\n"
     ]
    }
   ],
   "source": [
    "#efficient solution \n",
    "for alyssa in range(1001):\n",
    "    ben = max(alyssa -20 ,0)\n",
    "    cindy = alyssa *2\n",
    "    if ben+cindy+alyssa == 1000:\n",
    "        print(\"Alyssa sold \"  + str(alyssa))\n",
    "        print(\"Ben sold \" + str(ben))\n",
    "        print(\"cindy sold \" + str(cindy))\n",
    "    \n",
    "    "
   ]
  },
  {
   "cell_type": "code",
   "execution_count": 47,
   "id": "b6c55993-21f7-4e77-b3ac-1f7801e379a0",
   "metadata": {},
   "outputs": [
    {
     "name": "stdin",
     "output_type": "stream",
     "text": [
      "enter a number 22\n"
     ]
    },
    {
     "name": "stdout",
     "output_type": "stream",
     "text": [
      "10110\n"
     ]
    }
   ],
   "source": [
    "#conversion into binary\n",
    "result = \"\"\n",
    "num = int(input(\"enter a number\"))\n",
    "if num == 0:\n",
    "    result = 0\n",
    "while num>0:\n",
    "    result = str(num%2)+result\n",
    "    num = num//2\n",
    "print(result)\n",
    "    \n",
    "\n"
   ]
  },
  {
   "cell_type": "code",
   "execution_count": 49,
   "id": "649b0c6a-f7a4-4901-a2cc-2d5fbeba262c",
   "metadata": {},
   "outputs": [
    {
     "name": "stdin",
     "output_type": "stream",
     "text": [
      "enter a number 2\n"
     ]
    },
    {
     "name": "stdout",
     "output_type": "stream",
     "text": [
      "10\n"
     ]
    }
   ],
   "source": [
    "#handling numbers\n",
    "\n",
    "result = \"\"\n",
    "num = int(input(\"enter a number\"))\n",
    "if num<0:\n",
    "    is_neg = True #set flag\n",
    "    num = abs(num)\n",
    "else:\n",
    "    is_neg = False\n",
    "if num == 0:\n",
    "    result = 0\n",
    "while num>0:\n",
    "    result = str(num%2)+result\n",
    "    num = num//2\n",
    "print(result)\n",
    "    "
   ]
  },
  {
   "cell_type": "code",
   "execution_count": null,
   "id": "5a198f89-b336-4613-a44f-e96f08cfa256",
   "metadata": {},
   "outputs": [],
   "source": []
  }
 ],
 "metadata": {
  "kernelspec": {
   "display_name": "Python 3 (ipykernel)",
   "language": "python",
   "name": "python3"
  },
  "language_info": {
   "codemirror_mode": {
    "name": "ipython",
    "version": 3
   },
   "file_extension": ".py",
   "mimetype": "text/x-python",
   "name": "python",
   "nbconvert_exporter": "python",
   "pygments_lexer": "ipython3",
   "version": "3.11.7"
  }
 },
 "nbformat": 4,
 "nbformat_minor": 5
}
